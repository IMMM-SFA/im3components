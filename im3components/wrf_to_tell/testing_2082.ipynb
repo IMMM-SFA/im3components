{
 "cells": [
  {
   "cell_type": "code",
   "execution_count": null,
   "id": "a5fdb0e6-e4b3-4eb4-8461-d73a5a1f3cd5",
   "metadata": {},
   "outputs": [],
   "source": [
    "# Start by importing packages we need:\n",
    "import os\n",
    "\n",
    "import pandas as pd\n",
    "import numpy as np\n",
    "import matplotlib.pyplot as plt\n"
   ]
  },
  {
   "cell_type": "code",
   "execution_count": null,
   "id": "3a35af6e-efc7-45b9-bd6e-220365e50bda",
   "metadata": {},
   "outputs": [],
   "source": [
    "# Set the data input directories:\n",
    "current_dir =  os.path.join(os.path.dirname(os.getcwd()))\n",
    "cooler_dir = os.path.join(current_dir, r'wrf_to_tell', r'data', r'rcp85cooler_ssp3')\n",
    "hotter_dir = os.path.join(current_dir, r'wrf_to_tell', r'data', r'rcp85hotter_ssp3')\n",
    "image_output_dir = os.path.join(current_dir, r'wrf_to_tell', r'images')\n"
   ]
  },
  {
   "cell_type": "code",
   "execution_count": null,
   "id": "6f19e001-52b8-4224-8aeb-67de5fbf6e7b",
   "metadata": {},
   "outputs": [],
   "source": [
    "# Set the balancing authority to analyze:\n",
    "ba_to_plot = 'CISO'\n"
   ]
  },
  {
   "cell_type": "code",
   "execution_count": null,
   "id": "30b71cb8-14b0-4dc1-b7b4-9be108bbc527",
   "metadata": {},
   "outputs": [],
   "source": [
    "# Load in the raw data from the cooler scenario:\n",
    "cooler_2081_df = pd.read_csv(os.path.join(cooler_dir, f'{ba_to_plot}_WRF_Hourly_Mean_Meteorology_2081.csv'), index_col=None, header=0)\n",
    "cooler_2082_df = pd.read_csv(os.path.join(cooler_dir, f'{ba_to_plot}_WRF_Hourly_Mean_Meteorology_2082.csv'), index_col=None, header=0)\n",
    "cooler_2083_df = pd.read_csv(os.path.join(cooler_dir, f'{ba_to_plot}_WRF_Hourly_Mean_Meteorology_2083.csv'), index_col=None, header=0)\n",
    "\n",
    "# Concatenate the three dataframes together:\n",
    "cooler_df = pd.concat([cooler_2081_df, cooler_2082_df, cooler_2083_df])\n",
    "\n",
    "# Rename the T2 variable:\n",
    "cooler_df.rename(columns={'T2': 'T2_Cooler'}, inplace=True)\n",
    "\n",
    "# Subset to only the columns we need:\n",
    "cooler_df = cooler_df[['Time_UTC', 'T2_Cooler']]\n",
    "\n",
    "# Load in the raw data from the hotter scenario:\n",
    "hotter_2081_df = pd.read_csv(os.path.join(hotter_dir, f'{ba_to_plot}_WRF_Hourly_Mean_Meteorology_2081.csv'), index_col=None, header=0)\n",
    "hotter_2082_df = pd.read_csv(os.path.join(hotter_dir, f'{ba_to_plot}_WRF_Hourly_Mean_Meteorology_2082.csv'), index_col=None, header=0)\n",
    "hotter_2083_df = pd.read_csv(os.path.join(hotter_dir, f'{ba_to_plot}_WRF_Hourly_Mean_Meteorology_2083.csv'), index_col=None, header=0)\n",
    "\n",
    "# Concatenate the three dataframes together:\n",
    "hotter_df = pd.concat([hotter_2081_df, hotter_2082_df, hotter_2083_df])\n",
    "\n",
    "# Rename the T2 variable:\n",
    "hotter_df.rename(columns={'T2': 'T2_Hotter'}, inplace=True)\n",
    "\n",
    "# Subset to only the columns we need:\n",
    "hotter_df = hotter_df[['Time_UTC', 'T2_Hotter']]\n",
    "\n",
    "# Merge the two dataframes together based on a common \"Time_UTC\" variable:\n",
    "merged_df = pd.merge(cooler_df, hotter_df, how='left', on=['Time_UTC'])\n",
    "\n",
    "# Calculate the temperature difference:\n",
    "merged_df[\"T2_Difference\"] = (merged_df['T2_Hotter'] - merged_df['T2_Cooler']).round(2)\n",
    "\n",
    "# Convert the time to a datetime variable:\n",
    "merged_df['Time_UTC'] = pd.to_datetime(merged_df['Time_UTC'])\n",
    "\n",
    "# Clean up what we're not using anymore:\n",
    "del cooler_df, cooler_2081_df, cooler_2082_df, cooler_2083_df, hotter_df, hotter_2081_df, hotter_2082_df, hotter_2083_df\n",
    "\n",
    "# Return the merged dataframe:\n",
    "merged_df\n"
   ]
  },
  {
   "cell_type": "code",
   "execution_count": null,
   "id": "6f5786ee-6edd-4e76-b26b-4f1700d332e5",
   "metadata": {},
   "outputs": [],
   "source": [
    "# Define a function to compute the monthly-mean time series of T2 values and differences:\n",
    "def process_monthly_data(merged_df):\n",
    "    \n",
    "    # Initiate empty lists to store the monthly-mean results:\n",
    "    years = []\n",
    "    months = []\n",
    "    mean_t2_cooler = []\n",
    "    mean_t2_hotter = []\n",
    "    mean_t2_difference = []\n",
    "    \n",
    "    # Loop over the years:\n",
    "    for year in range(2081, 2084):\n",
    "        \n",
    "        # Loop over the months:\n",
    "        for month in range(1, 13):\n",
    "                       \n",
    "            # Subset the data to the given year/month combination:\n",
    "            month_subset_df = merged_df.loc[(merged_df['Time_UTC'].dt.strftime('%Y') == str(year)) & (merged_df['Time_UTC'].dt.strftime('%-m') == str(month))]\n",
    "           \n",
    "            # Store the output in a list:\n",
    "            years.append(year)\n",
    "            months.append(month)\n",
    "            mean_t2_cooler.append(month_subset_df['T2_Cooler'].mean())\n",
    "            mean_t2_hotter.append(month_subset_df['T2_Hotter'].mean())\n",
    "            mean_t2_difference.append(month_subset_df['T2_Difference'].mean())\n",
    "            \n",
    "            # Clean up what we're not using anymore:\n",
    "            del month_subset_df\n",
    "    \n",
    "    # Convert the output to a dataframe:\n",
    "    mean_df = pd.DataFrame(mean_t2_cooler, columns = ['T2_Cooler_Mean'])\n",
    "    mean_df['T2_Hotter_Mean'] = pd.DataFrame(mean_t2_hotter)\n",
    "    mean_df['T2_Difference_Mean'] = pd.DataFrame(mean_t2_difference)\n",
    "    mean_df['Month'] = months\n",
    "    mean_df['Year'] = years\n",
    "    mean_df['Time'] = mean_df['Year'] + (mean_df['Month'] / 12)\n",
    "    \n",
    "    # Rearrange the variables:\n",
    "    mean_df = mean_df[['Year', 'Month', 'Time', 'T2_Cooler_Mean', 'T2_Hotter_Mean', 'T2_Difference_Mean']]\n",
    "    \n",
    "    # Return the output dataframe:\n",
    "    return mean_df\n"
   ]
  },
  {
   "cell_type": "code",
   "execution_count": null,
   "id": "c6845ded-fc98-4a1c-b4b9-844f861a0c67",
   "metadata": {},
   "outputs": [],
   "source": [
    "# Process the monthly-mean time series:\n",
    "monthly_df = process_monthly_data(merged_df)\n",
    "\n",
    "monthly_df\n"
   ]
  },
  {
   "cell_type": "code",
   "execution_count": null,
   "id": "80554ebd-4acc-4771-997e-4dc392d1217d",
   "metadata": {},
   "outputs": [],
   "source": [
    "# Define a function to plot mean time series:\n",
    "def plot_monthly_data(ba_to_plot: str, monthly_df, image_output_dir: str, save_images=False):\n",
    "        \n",
    "    # Make the plot of monthly-mean temperatures:\n",
    "    plt.figure(figsize=(25, 25))\n",
    "    plt.subplot(211)\n",
    "    plt.plot(monthly_df['Time'], monthly_df['T2_Cooler_Mean'], color = 'b', linestyle = '-', linewidth = 3, label = 'rcp85cooler_ssp3')\n",
    "    plt.plot(monthly_df['Time'], monthly_df['T2_Hotter_Mean'], color = 'r', linestyle = '-', linewidth = 3, label = 'rcp85hotter_ssp3')\n",
    "    plt.legend()\n",
    "    plt.xlabel('Year')\n",
    "    plt.ylabel('Monthly Mean Temperature [K]')\n",
    "    plt.title('Monthly Mean Temperatures in ' + ba_to_plot)\n",
    "    \n",
    "    # Make the plot of monthly-mean temperature differences:\n",
    "    plt.subplot(212)\n",
    "    plt.plot(monthly_df['Time'], monthly_df['T2_Difference_Mean'], color = 'k', linestyle = '-', linewidth = 3, label = 'rcp85hotter_ssp3 - rcp85cooler_ssp3')\n",
    "    plt.legend()\n",
    "    plt.xlabel('Year')\n",
    "    plt.ylabel('Monthly Mean Temperature Difference [K]')\n",
    "    plt.title('Monthly Mean Temperature Difference in ' + ba_to_plot)\n",
    "       \n",
    "    # If the 'save_images' flag is set to true then save the plot to a .png file:\n",
    "    if save_images == True:\n",
    "       filename = (ba_to_plot + '_rcp85_ssp3_monthly_mean_time_series.png')\n",
    "       plt.savefig(os.path.join(image_output_dir, filename), dpi=75, bbox_inches='tight')\n"
   ]
  },
  {
   "cell_type": "code",
   "execution_count": null,
   "id": "e6155800-ced7-461a-8ad9-34804dbe33b9",
   "metadata": {},
   "outputs": [],
   "source": [
    "# Plot the monthly-mean time series:\n",
    "a = plot_monthly_data(ba_to_plot = ba_to_plot, \n",
    "                      monthly_df = monthly_df, \n",
    "                      image_output_dir = image_output_dir, \n",
    "                      save_images = True)\n"
   ]
  }
 ],
 "metadata": {
  "kernelspec": {
   "display_name": "py3.9.4_tell",
   "language": "python",
   "name": "py3.9.4_tell"
  },
  "language_info": {
   "codemirror_mode": {
    "name": "ipython",
    "version": 3
   },
   "file_extension": ".py",
   "mimetype": "text/x-python",
   "name": "python",
   "nbconvert_exporter": "python",
   "pygments_lexer": "ipython3",
   "version": "3.9.4"
  }
 },
 "nbformat": 4,
 "nbformat_minor": 5
}
